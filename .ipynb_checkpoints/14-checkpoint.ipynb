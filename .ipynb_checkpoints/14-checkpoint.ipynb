{
 "cells": [
  {
   "cell_type": "code",
   "execution_count": 1,
   "id": "250ff547",
   "metadata": {},
   "outputs": [],
   "source": [
    "import pandas as pd"
   ]
  },
  {
   "cell_type": "code",
   "execution_count": 2,
   "id": "97f0d88a",
   "metadata": {},
   "outputs": [],
   "source": [
    "df = pd.read_csv('test3_modify.csv')"
   ]
  },
  {
   "cell_type": "code",
   "execution_count": 3,
   "id": "d481a794",
   "metadata": {},
   "outputs": [],
   "source": [
    "label = 'Churn_num'\n",
    "features = ['SeniorCitizen', 'TotalCharges', 'tenure_scaled',\n",
    "       'MonthlyCharges_scaled', 'Partner_num', 'Dependents_num',\n",
    "       'PhoneService_num', 'PaperlessBilling_num', 'InternetSpeed']\n",
    "\n",
    "X, Y = df[features], df[label]"
   ]
  },
  {
   "cell_type": "code",
   "execution_count": 5,
   "id": "0d3c8727",
   "metadata": {},
   "outputs": [
    {
     "name": "stdout",
     "output_type": "stream",
     "text": [
      "<class 'pandas.core.frame.DataFrame'>\n",
      "RangeIndex: 7043 entries, 0 to 7042\n",
      "Data columns (total 10 columns):\n",
      " #   Column                 Non-Null Count  Dtype  \n",
      "---  ------                 --------------  -----  \n",
      " 0   SeniorCitizen          7043 non-null   int64  \n",
      " 1   TotalCharges           7043 non-null   float64\n",
      " 2   Churn_num              7043 non-null   int64  \n",
      " 3   tenure_scaled          7043 non-null   float64\n",
      " 4   MonthlyCharges_scaled  7043 non-null   float64\n",
      " 5   Partner_num            7043 non-null   int64  \n",
      " 6   Dependents_num         7043 non-null   int64  \n",
      " 7   PhoneService_num       7043 non-null   int64  \n",
      " 8   PaperlessBilling_num   7043 non-null   int64  \n",
      " 9   InternetSpeed          7043 non-null   float64\n",
      "dtypes: float64(4), int64(6)\n",
      "memory usage: 550.4 KB\n"
     ]
    }
   ],
   "source": [
    "df.info()"
   ]
  },
  {
   "cell_type": "markdown",
   "id": "3cbe9d3d",
   "metadata": {},
   "source": [
    "#### 군집 알고리즘\n",
    "- 유사한 row를 그룹으로 묶는다"
   ]
  },
  {
   "cell_type": "code",
   "execution_count": 4,
   "id": "6a9a9828",
   "metadata": {},
   "outputs": [],
   "source": [
    "from sklearn.cluster import KMeans"
   ]
  },
  {
   "cell_type": "code",
   "execution_count": 6,
   "id": "74899c71",
   "metadata": {},
   "outputs": [
    {
     "data": {
      "text/plain": [
       "array([2, 0, 2, ..., 2, 2, 1])"
      ]
     },
     "execution_count": 6,
     "metadata": {},
     "output_type": "execute_result"
    }
   ],
   "source": [
    "kmeans = KMeans(n_clusters=4)\n",
    "kmeans.fit(X)\n",
    "kmeans.labels_"
   ]
  },
  {
   "cell_type": "code",
   "execution_count": 7,
   "id": "b5c00d25",
   "metadata": {},
   "outputs": [],
   "source": [
    "df['cluster'] = kmeans.labels_"
   ]
  },
  {
   "cell_type": "code",
   "execution_count": 8,
   "id": "b1fa4d52",
   "metadata": {},
   "outputs": [
    {
     "data": {
      "text/html": [
       "<div>\n",
       "<style scoped>\n",
       "    .dataframe tbody tr th:only-of-type {\n",
       "        vertical-align: middle;\n",
       "    }\n",
       "\n",
       "    .dataframe tbody tr th {\n",
       "        vertical-align: top;\n",
       "    }\n",
       "\n",
       "    .dataframe thead th {\n",
       "        text-align: right;\n",
       "    }\n",
       "</style>\n",
       "<table border=\"1\" class=\"dataframe\">\n",
       "  <thead>\n",
       "    <tr style=\"text-align: right;\">\n",
       "      <th></th>\n",
       "      <th>SeniorCitizen</th>\n",
       "      <th>TotalCharges</th>\n",
       "      <th>Churn_num</th>\n",
       "      <th>tenure_scaled</th>\n",
       "      <th>MonthlyCharges_scaled</th>\n",
       "      <th>Partner_num</th>\n",
       "      <th>Dependents_num</th>\n",
       "      <th>PhoneService_num</th>\n",
       "      <th>PaperlessBilling_num</th>\n",
       "      <th>InternetSpeed</th>\n",
       "      <th>cluster</th>\n",
       "    </tr>\n",
       "  </thead>\n",
       "  <tbody>\n",
       "    <tr>\n",
       "      <th>0</th>\n",
       "      <td>0</td>\n",
       "      <td>29.85</td>\n",
       "      <td>0</td>\n",
       "      <td>0.013889</td>\n",
       "      <td>-1.160323</td>\n",
       "      <td>1</td>\n",
       "      <td>0</td>\n",
       "      <td>0</td>\n",
       "      <td>1</td>\n",
       "      <td>0.5</td>\n",
       "      <td>2</td>\n",
       "    </tr>\n",
       "    <tr>\n",
       "      <th>1</th>\n",
       "      <td>0</td>\n",
       "      <td>1889.50</td>\n",
       "      <td>0</td>\n",
       "      <td>0.472222</td>\n",
       "      <td>-0.259629</td>\n",
       "      <td>0</td>\n",
       "      <td>0</td>\n",
       "      <td>1</td>\n",
       "      <td>0</td>\n",
       "      <td>0.5</td>\n",
       "      <td>0</td>\n",
       "    </tr>\n",
       "    <tr>\n",
       "      <th>2</th>\n",
       "      <td>0</td>\n",
       "      <td>108.15</td>\n",
       "      <td>1</td>\n",
       "      <td>0.027778</td>\n",
       "      <td>-0.362660</td>\n",
       "      <td>0</td>\n",
       "      <td>0</td>\n",
       "      <td>1</td>\n",
       "      <td>1</td>\n",
       "      <td>0.5</td>\n",
       "      <td>2</td>\n",
       "    </tr>\n",
       "    <tr>\n",
       "      <th>3</th>\n",
       "      <td>0</td>\n",
       "      <td>1840.75</td>\n",
       "      <td>0</td>\n",
       "      <td>0.625000</td>\n",
       "      <td>-0.746535</td>\n",
       "      <td>0</td>\n",
       "      <td>0</td>\n",
       "      <td>0</td>\n",
       "      <td>0</td>\n",
       "      <td>0.5</td>\n",
       "      <td>0</td>\n",
       "    </tr>\n",
       "    <tr>\n",
       "      <th>4</th>\n",
       "      <td>0</td>\n",
       "      <td>151.65</td>\n",
       "      <td>1</td>\n",
       "      <td>0.027778</td>\n",
       "      <td>0.197365</td>\n",
       "      <td>0</td>\n",
       "      <td>0</td>\n",
       "      <td>1</td>\n",
       "      <td>1</td>\n",
       "      <td>1.0</td>\n",
       "      <td>2</td>\n",
       "    </tr>\n",
       "  </tbody>\n",
       "</table>\n",
       "</div>"
      ],
      "text/plain": [
       "   SeniorCitizen  TotalCharges  Churn_num  tenure_scaled  \\\n",
       "0              0         29.85          0       0.013889   \n",
       "1              0       1889.50          0       0.472222   \n",
       "2              0        108.15          1       0.027778   \n",
       "3              0       1840.75          0       0.625000   \n",
       "4              0        151.65          1       0.027778   \n",
       "\n",
       "   MonthlyCharges_scaled  Partner_num  Dependents_num  PhoneService_num  \\\n",
       "0              -1.160323            1               0                 0   \n",
       "1              -0.259629            0               0                 1   \n",
       "2              -0.362660            0               0                 1   \n",
       "3              -0.746535            0               0                 0   \n",
       "4               0.197365            0               0                 1   \n",
       "\n",
       "   PaperlessBilling_num  InternetSpeed  cluster  \n",
       "0                     1            0.5        2  \n",
       "1                     0            0.5        0  \n",
       "2                     1            0.5        2  \n",
       "3                     0            0.5        0  \n",
       "4                     1            1.0        2  "
      ]
     },
     "execution_count": 8,
     "metadata": {},
     "output_type": "execute_result"
    }
   ],
   "source": [
    "df.head()"
   ]
  },
  {
   "cell_type": "code",
   "execution_count": 9,
   "id": "abe9b16e",
   "metadata": {},
   "outputs": [],
   "source": [
    "import numpy as np"
   ]
  },
  {
   "cell_type": "code",
   "execution_count": 11,
   "id": "ddf23aca",
   "metadata": {},
   "outputs": [
    {
     "data": {
      "text/html": [
       "<div>\n",
       "<style scoped>\n",
       "    .dataframe tbody tr th:only-of-type {\n",
       "        vertical-align: middle;\n",
       "    }\n",
       "\n",
       "    .dataframe tbody tr th {\n",
       "        vertical-align: top;\n",
       "    }\n",
       "\n",
       "    .dataframe thead th {\n",
       "        text-align: right;\n",
       "    }\n",
       "</style>\n",
       "<table border=\"1\" class=\"dataframe\">\n",
       "  <thead>\n",
       "    <tr style=\"text-align: right;\">\n",
       "      <th></th>\n",
       "      <th>Churn_num</th>\n",
       "    </tr>\n",
       "    <tr>\n",
       "      <th>cluster</th>\n",
       "      <th></th>\n",
       "    </tr>\n",
       "  </thead>\n",
       "  <tbody>\n",
       "    <tr>\n",
       "      <th>0</th>\n",
       "      <td>0.225750</td>\n",
       "    </tr>\n",
       "    <tr>\n",
       "      <th>1</th>\n",
       "      <td>0.131365</td>\n",
       "    </tr>\n",
       "    <tr>\n",
       "      <th>2</th>\n",
       "      <td>0.361783</td>\n",
       "    </tr>\n",
       "    <tr>\n",
       "      <th>3</th>\n",
       "      <td>0.180328</td>\n",
       "    </tr>\n",
       "  </tbody>\n",
       "</table>\n",
       "</div>"
      ],
      "text/plain": [
       "         Churn_num\n",
       "cluster           \n",
       "0         0.225750\n",
       "1         0.131365\n",
       "2         0.361783\n",
       "3         0.180328"
      ]
     },
     "execution_count": 11,
     "metadata": {},
     "output_type": "execute_result"
    }
   ],
   "source": [
    "df.groupby('cluster').agg({label:np.mean})"
   ]
  },
  {
   "cell_type": "code",
   "execution_count": 12,
   "id": "474240b7",
   "metadata": {},
   "outputs": [
    {
     "data": {
      "text/plain": [
       "0.2653698707936959"
      ]
     },
     "execution_count": 12,
     "metadata": {},
     "output_type": "execute_result"
    }
   ],
   "source": [
    "np.mean(df[label])\n",
    "\n",
    "# 전체 고객 중 26% 정도 이탈하는데,\n",
    "# 어떤 그룹은 평균 대비 2배 정도 이탈률이 높거나 낮다."
   ]
  },
  {
   "cell_type": "code",
   "execution_count": 13,
   "id": "a32373fd",
   "metadata": {},
   "outputs": [
    {
     "data": {
      "text/html": [
       "<div>\n",
       "<style scoped>\n",
       "    .dataframe tbody tr th:only-of-type {\n",
       "        vertical-align: middle;\n",
       "    }\n",
       "\n",
       "    .dataframe tbody tr th {\n",
       "        vertical-align: top;\n",
       "    }\n",
       "\n",
       "    .dataframe thead th {\n",
       "        text-align: right;\n",
       "    }\n",
       "</style>\n",
       "<table border=\"1\" class=\"dataframe\">\n",
       "  <thead>\n",
       "    <tr style=\"text-align: right;\">\n",
       "      <th></th>\n",
       "      <th>SeniorCitizen</th>\n",
       "      <th>TotalCharges</th>\n",
       "      <th>Churn_num</th>\n",
       "      <th>tenure_scaled</th>\n",
       "      <th>MonthlyCharges_scaled</th>\n",
       "      <th>Partner_num</th>\n",
       "      <th>Dependents_num</th>\n",
       "      <th>PhoneService_num</th>\n",
       "      <th>PaperlessBilling_num</th>\n",
       "      <th>InternetSpeed</th>\n",
       "      <th>cluster</th>\n",
       "    </tr>\n",
       "  </thead>\n",
       "  <tbody>\n",
       "    <tr>\n",
       "      <th>count</th>\n",
       "      <td>7043.000000</td>\n",
       "      <td>7043.000000</td>\n",
       "      <td>7043.000000</td>\n",
       "      <td>7043.000000</td>\n",
       "      <td>7.043000e+03</td>\n",
       "      <td>7043.000000</td>\n",
       "      <td>7043.000000</td>\n",
       "      <td>7043.000000</td>\n",
       "      <td>7043.000000</td>\n",
       "      <td>7043.000000</td>\n",
       "      <td>7043.000000</td>\n",
       "    </tr>\n",
       "    <tr>\n",
       "      <th>mean</th>\n",
       "      <td>0.162147</td>\n",
       "      <td>2279.734304</td>\n",
       "      <td>0.265370</td>\n",
       "      <td>0.449599</td>\n",
       "      <td>-1.500401e-15</td>\n",
       "      <td>0.483033</td>\n",
       "      <td>0.299588</td>\n",
       "      <td>0.903166</td>\n",
       "      <td>0.592219</td>\n",
       "      <td>0.611458</td>\n",
       "      <td>1.550760</td>\n",
       "    </tr>\n",
       "    <tr>\n",
       "      <th>std</th>\n",
       "      <td>0.368612</td>\n",
       "      <td>2266.794470</td>\n",
       "      <td>0.441561</td>\n",
       "      <td>0.341104</td>\n",
       "      <td>1.000071e+00</td>\n",
       "      <td>0.499748</td>\n",
       "      <td>0.458110</td>\n",
       "      <td>0.295752</td>\n",
       "      <td>0.491457</td>\n",
       "      <td>0.389438</td>\n",
       "      <td>1.037811</td>\n",
       "    </tr>\n",
       "    <tr>\n",
       "      <th>min</th>\n",
       "      <td>0.000000</td>\n",
       "      <td>0.000000</td>\n",
       "      <td>0.000000</td>\n",
       "      <td>0.000000</td>\n",
       "      <td>-1.545860e+00</td>\n",
       "      <td>0.000000</td>\n",
       "      <td>0.000000</td>\n",
       "      <td>0.000000</td>\n",
       "      <td>0.000000</td>\n",
       "      <td>0.000000</td>\n",
       "      <td>0.000000</td>\n",
       "    </tr>\n",
       "    <tr>\n",
       "      <th>25%</th>\n",
       "      <td>0.000000</td>\n",
       "      <td>398.550000</td>\n",
       "      <td>0.000000</td>\n",
       "      <td>0.125000</td>\n",
       "      <td>-9.725399e-01</td>\n",
       "      <td>0.000000</td>\n",
       "      <td>0.000000</td>\n",
       "      <td>1.000000</td>\n",
       "      <td>0.000000</td>\n",
       "      <td>0.500000</td>\n",
       "      <td>1.000000</td>\n",
       "    </tr>\n",
       "    <tr>\n",
       "      <th>50%</th>\n",
       "      <td>0.000000</td>\n",
       "      <td>1394.550000</td>\n",
       "      <td>0.000000</td>\n",
       "      <td>0.402778</td>\n",
       "      <td>1.857327e-01</td>\n",
       "      <td>0.000000</td>\n",
       "      <td>0.000000</td>\n",
       "      <td>1.000000</td>\n",
       "      <td>1.000000</td>\n",
       "      <td>0.500000</td>\n",
       "      <td>2.000000</td>\n",
       "    </tr>\n",
       "    <tr>\n",
       "      <th>75%</th>\n",
       "      <td>0.000000</td>\n",
       "      <td>3786.600000</td>\n",
       "      <td>1.000000</td>\n",
       "      <td>0.763889</td>\n",
       "      <td>8.338335e-01</td>\n",
       "      <td>1.000000</td>\n",
       "      <td>1.000000</td>\n",
       "      <td>1.000000</td>\n",
       "      <td>1.000000</td>\n",
       "      <td>1.000000</td>\n",
       "      <td>2.000000</td>\n",
       "    </tr>\n",
       "    <tr>\n",
       "      <th>max</th>\n",
       "      <td>1.000000</td>\n",
       "      <td>8684.800000</td>\n",
       "      <td>1.000000</td>\n",
       "      <td>1.000000</td>\n",
       "      <td>1.794352e+00</td>\n",
       "      <td>1.000000</td>\n",
       "      <td>1.000000</td>\n",
       "      <td>1.000000</td>\n",
       "      <td>1.000000</td>\n",
       "      <td>1.000000</td>\n",
       "      <td>3.000000</td>\n",
       "    </tr>\n",
       "  </tbody>\n",
       "</table>\n",
       "</div>"
      ],
      "text/plain": [
       "       SeniorCitizen  TotalCharges    Churn_num  tenure_scaled  \\\n",
       "count    7043.000000   7043.000000  7043.000000    7043.000000   \n",
       "mean        0.162147   2279.734304     0.265370       0.449599   \n",
       "std         0.368612   2266.794470     0.441561       0.341104   \n",
       "min         0.000000      0.000000     0.000000       0.000000   \n",
       "25%         0.000000    398.550000     0.000000       0.125000   \n",
       "50%         0.000000   1394.550000     0.000000       0.402778   \n",
       "75%         0.000000   3786.600000     1.000000       0.763889   \n",
       "max         1.000000   8684.800000     1.000000       1.000000   \n",
       "\n",
       "       MonthlyCharges_scaled  Partner_num  Dependents_num  PhoneService_num  \\\n",
       "count           7.043000e+03  7043.000000     7043.000000       7043.000000   \n",
       "mean           -1.500401e-15     0.483033        0.299588          0.903166   \n",
       "std             1.000071e+00     0.499748        0.458110          0.295752   \n",
       "min            -1.545860e+00     0.000000        0.000000          0.000000   \n",
       "25%            -9.725399e-01     0.000000        0.000000          1.000000   \n",
       "50%             1.857327e-01     0.000000        0.000000          1.000000   \n",
       "75%             8.338335e-01     1.000000        1.000000          1.000000   \n",
       "max             1.794352e+00     1.000000        1.000000          1.000000   \n",
       "\n",
       "       PaperlessBilling_num  InternetSpeed      cluster  \n",
       "count           7043.000000    7043.000000  7043.000000  \n",
       "mean               0.592219       0.611458     1.550760  \n",
       "std                0.491457       0.389438     1.037811  \n",
       "min                0.000000       0.000000     0.000000  \n",
       "25%                0.000000       0.500000     1.000000  \n",
       "50%                1.000000       0.500000     2.000000  \n",
       "75%                1.000000       1.000000     2.000000  \n",
       "max                1.000000       1.000000     3.000000  "
      ]
     },
     "execution_count": 13,
     "metadata": {},
     "output_type": "execute_result"
    }
   ],
   "source": [
    "# 이탈률이 가장 높은 그룹(2)과 낮은 그룹(1)의 특징을 확인\n",
    "\n",
    "df.describe()"
   ]
  },
  {
   "cell_type": "code",
   "execution_count": 19,
   "id": "5b6ae58d",
   "metadata": {},
   "outputs": [
    {
     "data": {
      "text/html": [
       "<div>\n",
       "<style scoped>\n",
       "    .dataframe tbody tr th:only-of-type {\n",
       "        vertical-align: middle;\n",
       "    }\n",
       "\n",
       "    .dataframe tbody tr th {\n",
       "        vertical-align: top;\n",
       "    }\n",
       "\n",
       "    .dataframe thead th {\n",
       "        text-align: right;\n",
       "    }\n",
       "</style>\n",
       "<table border=\"1\" class=\"dataframe\">\n",
       "  <thead>\n",
       "    <tr style=\"text-align: right;\">\n",
       "      <th></th>\n",
       "      <th>index</th>\n",
       "      <th>mean</th>\n",
       "    </tr>\n",
       "  </thead>\n",
       "  <tbody>\n",
       "    <tr>\n",
       "      <th>0</th>\n",
       "      <td>SeniorCitizen</td>\n",
       "      <td>0.217923</td>\n",
       "    </tr>\n",
       "    <tr>\n",
       "      <th>1</th>\n",
       "      <td>TotalCharges</td>\n",
       "      <td>6643.253921</td>\n",
       "    </tr>\n",
       "    <tr>\n",
       "      <th>2</th>\n",
       "      <td>tenure_scaled</td>\n",
       "      <td>0.920344</td>\n",
       "    </tr>\n",
       "    <tr>\n",
       "      <th>3</th>\n",
       "      <td>MonthlyCharges_scaled</td>\n",
       "      <td>1.180668</td>\n",
       "    </tr>\n",
       "    <tr>\n",
       "      <th>4</th>\n",
       "      <td>Partner_num</td>\n",
       "      <td>0.762729</td>\n",
       "    </tr>\n",
       "    <tr>\n",
       "      <th>5</th>\n",
       "      <td>Dependents_num</td>\n",
       "      <td>0.339104</td>\n",
       "    </tr>\n",
       "    <tr>\n",
       "      <th>6</th>\n",
       "      <td>PhoneService_num</td>\n",
       "      <td>1.000000</td>\n",
       "    </tr>\n",
       "    <tr>\n",
       "      <th>7</th>\n",
       "      <td>PaperlessBilling_num</td>\n",
       "      <td>0.714868</td>\n",
       "    </tr>\n",
       "    <tr>\n",
       "      <th>8</th>\n",
       "      <td>InternetSpeed</td>\n",
       "      <td>0.905295</td>\n",
       "    </tr>\n",
       "  </tbody>\n",
       "</table>\n",
       "</div>"
      ],
      "text/plain": [
       "                   index         mean\n",
       "0          SeniorCitizen     0.217923\n",
       "1           TotalCharges  6643.253921\n",
       "2          tenure_scaled     0.920344\n",
       "3  MonthlyCharges_scaled     1.180668\n",
       "4            Partner_num     0.762729\n",
       "5         Dependents_num     0.339104\n",
       "6       PhoneService_num     1.000000\n",
       "7   PaperlessBilling_num     0.714868\n",
       "8          InternetSpeed     0.905295"
      ]
     },
     "execution_count": 19,
     "metadata": {},
     "output_type": "execute_result"
    }
   ],
   "source": [
    "df.loc[df['cluster'] == 1][features].describe().T['mean'].reset_index()"
   ]
  },
  {
   "cell_type": "code",
   "execution_count": 17,
   "id": "bb647124",
   "metadata": {},
   "outputs": [],
   "source": [
    "import seaborn as sns"
   ]
  },
  {
   "cell_type": "code",
   "execution_count": 20,
   "id": "feb55a05",
   "metadata": {},
   "outputs": [
    {
     "data": {
      "text/plain": [
       "<AxesSubplot:xlabel='mean', ylabel='index'>"
      ]
     },
     "execution_count": 20,
     "metadata": {},
     "output_type": "execute_result"
    },
    {
     "data": {
      "image/png": "[encoded data removed]",
      "text/plain": [
       "<Figure size 640x480 with 1 Axes>"
      ]
     },
     "metadata": {},
     "output_type": "display_data"
    }
   ],
   "source": [
    "for_plot = df.loc[df['cluster'] == 1][features].describe().T['mean'].reset_index()\n",
    "sns.barplot(data=for_plot, x='mean', y='index')"
   ]
  },
  {
   "cell_type": "code",
   "execution_count": 21,
   "id": "67b7554a",
   "metadata": {},
   "outputs": [
    {
     "data": {
      "text/plain": [
       "['SeniorCitizen',\n",
       " 'TotalCharges',\n",
       " 'tenure_scaled',\n",
       " 'MonthlyCharges_scaled',\n",
       " 'Partner_num',\n",
       " 'Dependents_num',\n",
       " 'PhoneService_num',\n",
       " 'PaperlessBilling_num',\n",
       " 'InternetSpeed']"
      ]
     },
     "execution_count": 21,
     "metadata": {},
     "output_type": "execute_result"
    }
   ],
   "source": [
    "features"
   ]
  },
  {
   "cell_type": "code",
   "execution_count": 22,
   "id": "a1ec59f9",
   "metadata": {},
   "outputs": [],
   "source": [
    "features = ['SeniorCitizen',\n",
    " 'tenure_scaled',\n",
    " 'MonthlyCharges_scaled',\n",
    " 'Partner_num',\n",
    " 'Dependents_num',\n",
    " 'PhoneService_num',\n",
    " 'PaperlessBilling_num',\n",
    " 'InternetSpeed']"
   ]
  },
  {
   "cell_type": "code",
   "execution_count": 26,
   "id": "797b2e2c",
   "metadata": {},
   "outputs": [
    {
     "data": {
      "text/plain": [
       "<AxesSubplot:xlabel='mean', ylabel='index'>"
      ]
     },
     "execution_count": 26,
     "metadata": {},
     "output_type": "execute_result"
    },
    {
     "data": {
      "image/png": "[encoded data removed]",
      "text/plain": [
       "<Figure size 640x480 with 1 Axes>"
      ]
     },
     "metadata": {},
     "output_type": "display_data"
    }
   ],
   "source": [
    "for_plot = df.loc[df['cluster'] == 1][features].describe().T['mean'].reset_index()\n",
    "sns.barplot(data=for_plot, x='mean', y='index')"
   ]
  },
  {
   "cell_type": "code",
   "execution_count": 27,
   "id": "86487676",
   "metadata": {},
   "outputs": [
    {
     "data": {
      "text/plain": [
       "<AxesSubplot:xlabel='mean', ylabel='index'>"
      ]
     },
     "execution_count": 27,
     "metadata": {},
     "output_type": "execute_result"
    },
    {
     "data": {
      "image/png": "[encoded data removed]",
      "text/plain": [
       "<Figure size 640x480 with 1 Axes>"
      ]
     },
     "metadata": {},
     "output_type": "display_data"
    }
   ],
   "source": [
    "sns.barplot(data=for_plot.sort_values(by='mean'), x='mean', y='index')\n",
    "\n",
    "# SeniorCitizen, Dependents_num 만 낮은 수치"
   ]
  },
  {
   "cell_type": "code",
   "execution_count": 28,
   "id": "85b6db12",
   "metadata": {},
   "outputs": [
    {
     "data": {
      "text/html": [
       "<div>\n",
       "<style scoped>\n",
       "    .dataframe tbody tr th:only-of-type {\n",
       "        vertical-align: middle;\n",
       "    }\n",
       "\n",
       "    .dataframe tbody tr th {\n",
       "        vertical-align: top;\n",
       "    }\n",
       "\n",
       "    .dataframe thead th {\n",
       "        text-align: right;\n",
       "    }\n",
       "</style>\n",
       "<table border=\"1\" class=\"dataframe\">\n",
       "  <thead>\n",
       "    <tr style=\"text-align: right;\">\n",
       "      <th></th>\n",
       "      <th>index</th>\n",
       "      <th>mean</th>\n",
       "    </tr>\n",
       "  </thead>\n",
       "  <tbody>\n",
       "    <tr>\n",
       "      <th>0</th>\n",
       "      <td>SeniorCitizen</td>\n",
       "      <td>0.120382</td>\n",
       "    </tr>\n",
       "    <tr>\n",
       "      <th>1</th>\n",
       "      <td>tenure_scaled</td>\n",
       "      <td>0.162646</td>\n",
       "    </tr>\n",
       "    <tr>\n",
       "      <th>2</th>\n",
       "      <td>MonthlyCharges_scaled</td>\n",
       "      <td>-0.551715</td>\n",
       "    </tr>\n",
       "    <tr>\n",
       "      <th>3</th>\n",
       "      <td>Partner_num</td>\n",
       "      <td>0.320382</td>\n",
       "    </tr>\n",
       "    <tr>\n",
       "      <th>4</th>\n",
       "      <td>Dependents_num</td>\n",
       "      <td>0.267516</td>\n",
       "    </tr>\n",
       "    <tr>\n",
       "      <th>5</th>\n",
       "      <td>PhoneService_num</td>\n",
       "      <td>0.891401</td>\n",
       "    </tr>\n",
       "    <tr>\n",
       "      <th>6</th>\n",
       "      <td>PaperlessBilling_num</td>\n",
       "      <td>0.526433</td>\n",
       "    </tr>\n",
       "    <tr>\n",
       "      <th>7</th>\n",
       "      <td>InternetSpeed</td>\n",
       "      <td>0.467675</td>\n",
       "    </tr>\n",
       "  </tbody>\n",
       "</table>\n",
       "</div>"
      ],
      "text/plain": [
       "                   index      mean\n",
       "0          SeniorCitizen  0.120382\n",
       "1          tenure_scaled  0.162646\n",
       "2  MonthlyCharges_scaled -0.551715\n",
       "3            Partner_num  0.320382\n",
       "4         Dependents_num  0.267516\n",
       "5       PhoneService_num  0.891401\n",
       "6   PaperlessBilling_num  0.526433\n",
       "7          InternetSpeed  0.467675"
      ]
     },
     "execution_count": 28,
     "metadata": {},
     "output_type": "execute_result"
    }
   ],
   "source": [
    "df.loc[df['cluster'] == 2][features].describe().T['mean'].reset_index()"
   ]
  },
  {
   "cell_type": "code",
   "execution_count": 29,
   "id": "fadc5745",
   "metadata": {},
   "outputs": [
    {
     "data": {
      "text/plain": [
       "<AxesSubplot:xlabel='mean', ylabel='index'>"
      ]
     },
     "execution_count": 29,
     "metadata": {},
     "output_type": "execute_result"
    },
    {
     "data": {
      "image/png": "[encoded data removed]",
      "text/plain": [
       "<Figure size 640x480 with 1 Axes>"
      ]
     },
     "metadata": {},
     "output_type": "display_data"
    }
   ],
   "source": [
    "for_plot = df.loc[df['cluster'] == 2][features].describe().T['mean'].reset_index()\n",
    "sns.barplot(data=for_plot, x='mean', y='index')"
   ]
  },
  {
   "cell_type": "code",
   "execution_count": 30,
   "id": "f7e11ed3",
   "metadata": {},
   "outputs": [
    {
     "data": {
      "text/plain": [
       "<AxesSubplot:xlabel='mean', ylabel='index'>"
      ]
     },
     "execution_count": 30,
     "metadata": {},
     "output_type": "execute_result"
    },
    {
     "data": {
      "image/png": "[encoded data removed]",
      "text/plain": [
       "<Figure size 640x480 with 1 Axes>"
      ]
     },
     "metadata": {},
     "output_type": "display_data"
    }
   ],
   "source": [
    "sns.barplot(data=for_plot.sort_values(by='mean'), x='mean', y='index')\n",
    "\n",
    "# PhoneService_num 만 높은 수치"
   ]
  },
  {
   "cell_type": "markdown",
   "id": "7183b031",
   "metadata": {},
   "source": [
    "#### 그룹화 할 때, 군집의 개수를 지정하는 방법\n",
    "- 군집의 개수를 미리 알고있는 경우 - 그대로 사용\n",
    "- 실루엣 지표 : -1 ~ 1 사이의 범위\n",
    "- scree plot, elbow method"
   ]
  },
  {
   "cell_type": "code",
   "execution_count": 31,
   "id": "47ce6c6a",
   "metadata": {},
   "outputs": [],
   "source": [
    "from sklearn.metrics import silhouette_score as sil"
   ]
  },
  {
   "cell_type": "code",
   "execution_count": 34,
   "id": "ec065458",
   "metadata": {},
   "outputs": [
    {
     "data": {
      "text/plain": [
       "KMeans(n_clusters=3)"
      ]
     },
     "execution_count": 34,
     "metadata": {},
     "output_type": "execute_result"
    }
   ],
   "source": [
    "model = KMeans(n_clusters=3)\n",
    "model.fit(df[features])"
   ]
  },
  {
   "cell_type": "code",
   "execution_count": 35,
   "id": "dffdc9c7",
   "metadata": {},
   "outputs": [
    {
     "data": {
      "text/plain": [
       "0.26924896878322424"
      ]
     },
     "execution_count": 35,
     "metadata": {},
     "output_type": "execute_result"
    }
   ],
   "source": [
    "sil_score = sil(df[features], model.labels_)\n",
    "sil_score"
   ]
  },
  {
   "cell_type": "code",
   "execution_count": 36,
   "id": "99ada461",
   "metadata": {},
   "outputs": [
    {
     "data": {
      "text/plain": [
       "0.2402894374815951"
      ]
     },
     "execution_count": 36,
     "metadata": {},
     "output_type": "execute_result"
    }
   ],
   "source": [
    "model = KMeans(n_clusters=4)\n",
    "model.fit(df[features])\n",
    "\n",
    "sil_score = sil(df[features], model.labels_)\n",
    "# model.inertia_ --> elbow score\n",
    "sil_score"
   ]
  },
  {
   "cell_type": "code",
   "execution_count": 39,
   "id": "e4e205ef",
   "metadata": {},
   "outputs": [],
   "source": [
    "score_list = []\n",
    "\n",
    "for i in range(10):\n",
    "    i = i + 2\n",
    "    model = KMeans(n_clusters=i)\n",
    "    model.fit(df[features])\n",
    "\n",
    "    sil_score = sil(df[features], model.labels_)\n",
    "    elbow_score = model.inertia_\n",
    "    \n",
    "    score_list.append({'num_cluster':i, 'sil':sil_score, 'elbow':elbow_score})\n",
    "\n",
    "score_df = pd.DataFrame(score_list)"
   ]
  },
  {
   "cell_type": "code",
   "execution_count": 40,
   "id": "e011bb45",
   "metadata": {},
   "outputs": [
    {
     "data": {
      "text/html": [
       "<div>\n",
       "<style scoped>\n",
       "    .dataframe tbody tr th:only-of-type {\n",
       "        vertical-align: middle;\n",
       "    }\n",
       "\n",
       "    .dataframe tbody tr th {\n",
       "        vertical-align: top;\n",
       "    }\n",
       "\n",
       "    .dataframe thead th {\n",
       "        text-align: right;\n",
       "    }\n",
       "</style>\n",
       "<table border=\"1\" class=\"dataframe\">\n",
       "  <thead>\n",
       "    <tr style=\"text-align: right;\">\n",
       "      <th></th>\n",
       "      <th>num_cluster</th>\n",
       "      <th>sil</th>\n",
       "      <th>elbow</th>\n",
       "    </tr>\n",
       "  </thead>\n",
       "  <tbody>\n",
       "    <tr>\n",
       "      <th>0</th>\n",
       "      <td>2</td>\n",
       "      <td>0.357751</td>\n",
       "      <td>8937.281253</td>\n",
       "    </tr>\n",
       "    <tr>\n",
       "      <th>1</th>\n",
       "      <td>3</td>\n",
       "      <td>0.269249</td>\n",
       "      <td>7657.455952</td>\n",
       "    </tr>\n",
       "    <tr>\n",
       "      <th>2</th>\n",
       "      <td>4</td>\n",
       "      <td>0.240285</td>\n",
       "      <td>6686.897461</td>\n",
       "    </tr>\n",
       "    <tr>\n",
       "      <th>3</th>\n",
       "      <td>5</td>\n",
       "      <td>0.246856</td>\n",
       "      <td>6077.055985</td>\n",
       "    </tr>\n",
       "    <tr>\n",
       "      <th>4</th>\n",
       "      <td>6</td>\n",
       "      <td>0.254572</td>\n",
       "      <td>5601.856381</td>\n",
       "    </tr>\n",
       "    <tr>\n",
       "      <th>5</th>\n",
       "      <td>7</td>\n",
       "      <td>0.261870</td>\n",
       "      <td>5089.508309</td>\n",
       "    </tr>\n",
       "    <tr>\n",
       "      <th>6</th>\n",
       "      <td>8</td>\n",
       "      <td>0.269550</td>\n",
       "      <td>4675.440257</td>\n",
       "    </tr>\n",
       "    <tr>\n",
       "      <th>7</th>\n",
       "      <td>9</td>\n",
       "      <td>0.270321</td>\n",
       "      <td>4396.298579</td>\n",
       "    </tr>\n",
       "    <tr>\n",
       "      <th>8</th>\n",
       "      <td>10</td>\n",
       "      <td>0.277626</td>\n",
       "      <td>4169.561624</td>\n",
       "    </tr>\n",
       "    <tr>\n",
       "      <th>9</th>\n",
       "      <td>11</td>\n",
       "      <td>0.296336</td>\n",
       "      <td>3923.770979</td>\n",
       "    </tr>\n",
       "  </tbody>\n",
       "</table>\n",
       "</div>"
      ],
      "text/plain": [
       "   num_cluster       sil        elbow\n",
       "0            2  0.357751  8937.281253\n",
       "1            3  0.269249  7657.455952\n",
       "2            4  0.240285  6686.897461\n",
       "3            5  0.246856  6077.055985\n",
       "4            6  0.254572  5601.856381\n",
       "5            7  0.261870  5089.508309\n",
       "6            8  0.269550  4675.440257\n",
       "7            9  0.270321  4396.298579\n",
       "8           10  0.277626  4169.561624\n",
       "9           11  0.296336  3923.770979"
      ]
     },
     "execution_count": 40,
     "metadata": {},
     "output_type": "execute_result"
    }
   ],
   "source": [
    "score_df"
   ]
  },
  {
   "cell_type": "code",
   "execution_count": 42,
   "id": "dcc63a81",
   "metadata": {},
   "outputs": [
    {
     "data": {
      "text/plain": [
       "<AxesSubplot:xlabel='num_cluster', ylabel='elbow'>"
      ]
     },
     "execution_count": 42,
     "metadata": {},
     "output_type": "execute_result"
    },
    {
     "data": {
      "image/png": "[encoded data removed]",
      "text/plain": [
       "<Figure size 640x480 with 1 Axes>"
      ]
     },
     "metadata": {},
     "output_type": "display_data"
    }
   ],
   "source": [
    "sns.lineplot(data=score_df, x='num_cluster', y='elbow')"
   ]
  },
  {
   "cell_type": "markdown",
   "id": "6f6c1693",
   "metadata": {},
   "source": [
    "#### 차원 축소 (Dimensionality Reduction)\n",
    "- 차원 = feature\n",
    "- ex) feature 1개 = 1차원, feature 2개 = 2차원, ...\n",
    "- 차원 축소 알고리즘 : 주성분분석 (PCA)"
   ]
  },
  {
   "cell_type": "code",
   "execution_count": 43,
   "id": "27615e2c",
   "metadata": {},
   "outputs": [],
   "source": [
    "from sklearn.decomposition import PCA"
   ]
  },
  {
   "cell_type": "code",
   "execution_count": 44,
   "id": "545466c0",
   "metadata": {},
   "outputs": [
    {
     "data": {
      "text/plain": [
       "8"
      ]
     },
     "execution_count": 44,
     "metadata": {},
     "output_type": "execute_result"
    }
   ],
   "source": [
    "len(features)"
   ]
  },
  {
   "cell_type": "code",
   "execution_count": 45,
   "id": "e21c9ee6",
   "metadata": {},
   "outputs": [
    {
     "data": {
      "text/html": [
       "<div>\n",
       "<style scoped>\n",
       "    .dataframe tbody tr th:only-of-type {\n",
       "        vertical-align: middle;\n",
       "    }\n",
       "\n",
       "    .dataframe tbody tr th {\n",
       "        vertical-align: top;\n",
       "    }\n",
       "\n",
       "    .dataframe thead th {\n",
       "        text-align: right;\n",
       "    }\n",
       "</style>\n",
       "<table border=\"1\" class=\"dataframe\">\n",
       "  <thead>\n",
       "    <tr style=\"text-align: right;\">\n",
       "      <th></th>\n",
       "      <th>PC1</th>\n",
       "      <th>PC2</th>\n",
       "    </tr>\n",
       "  </thead>\n",
       "  <tbody>\n",
       "    <tr>\n",
       "      <th>0</th>\n",
       "      <td>-1.077752</td>\n",
       "      <td>-0.018679</td>\n",
       "    </tr>\n",
       "    <tr>\n",
       "      <th>1</th>\n",
       "      <td>-0.399133</td>\n",
       "      <td>-0.428201</td>\n",
       "    </tr>\n",
       "    <tr>\n",
       "      <th>2</th>\n",
       "      <td>-0.330653</td>\n",
       "      <td>-0.695921</td>\n",
       "    </tr>\n",
       "    <tr>\n",
       "      <th>3</th>\n",
       "      <td>-0.895657</td>\n",
       "      <td>-0.425295</td>\n",
       "    </tr>\n",
       "    <tr>\n",
       "      <th>4</th>\n",
       "      <td>0.344060</td>\n",
       "      <td>-0.706090</td>\n",
       "    </tr>\n",
       "    <tr>\n",
       "      <th>...</th>\n",
       "      <td>...</td>\n",
       "      <td>...</td>\n",
       "    </tr>\n",
       "    <tr>\n",
       "      <th>7038</th>\n",
       "      <td>0.613580</td>\n",
       "      <td>0.761369</td>\n",
       "    </tr>\n",
       "    <tr>\n",
       "      <th>7039</th>\n",
       "      <td>1.385085</td>\n",
       "      <td>0.932505</td>\n",
       "    </tr>\n",
       "    <tr>\n",
       "      <th>7040</th>\n",
       "      <td>-1.135765</td>\n",
       "      <td>0.611955</td>\n",
       "    </tr>\n",
       "    <tr>\n",
       "      <th>7041</th>\n",
       "      <td>0.592569</td>\n",
       "      <td>-0.054337</td>\n",
       "    </tr>\n",
       "    <tr>\n",
       "      <th>7042</th>\n",
       "      <td>1.468855</td>\n",
       "      <td>-0.413367</td>\n",
       "    </tr>\n",
       "  </tbody>\n",
       "</table>\n",
       "<p>7043 rows × 2 columns</p>\n",
       "</div>"
      ],
      "text/plain": [
       "           PC1       PC2\n",
       "0    -1.077752 -0.018679\n",
       "1    -0.399133 -0.428201\n",
       "2    -0.330653 -0.695921\n",
       "3    -0.895657 -0.425295\n",
       "4     0.344060 -0.706090\n",
       "...        ...       ...\n",
       "7038  0.613580  0.761369\n",
       "7039  1.385085  0.932505\n",
       "7040 -1.135765  0.611955\n",
       "7041  0.592569 -0.054337\n",
       "7042  1.468855 -0.413367\n",
       "\n",
       "[7043 rows x 2 columns]"
      ]
     },
     "execution_count": 45,
     "metadata": {},
     "output_type": "execute_result"
    }
   ],
   "source": [
    "model = PCA(n_components=2)\n",
    "pd.DataFrame(model.fit_transform(df[features]), columns=['PC1', 'PC2'])\n",
    "\n",
    "# 원래 feature가 3개 였는데, 2개로 변환함 (차원 축소)"
   ]
  },
  {
   "cell_type": "code",
   "execution_count": 46,
   "id": "885e4d4a",
   "metadata": {},
   "outputs": [
    {
     "data": {
      "text/plain": [
       "array([[ 0.08937615,  0.07478645,  0.91108996,  0.04501624, -0.06082992,\n",
       "         0.06433438,  0.19558914,  0.32895777],\n",
       "       [-0.094996  ,  0.26835343,  0.04664807,  0.73355829,  0.59375   ,\n",
       "         0.0153793 , -0.14364602, -0.07258531]])"
      ]
     },
     "execution_count": 46,
     "metadata": {},
     "output_type": "execute_result"
    }
   ],
   "source": [
    "model.components_"
   ]
  },
  {
   "cell_type": "code",
   "execution_count": 47,
   "id": "9659cd1a",
   "metadata": {},
   "outputs": [
    {
     "data": {
      "text/html": [
       "<div>\n",
       "<style scoped>\n",
       "    .dataframe tbody tr th:only-of-type {\n",
       "        vertical-align: middle;\n",
       "    }\n",
       "\n",
       "    .dataframe tbody tr th {\n",
       "        vertical-align: top;\n",
       "    }\n",
       "\n",
       "    .dataframe thead th {\n",
       "        text-align: right;\n",
       "    }\n",
       "</style>\n",
       "<table border=\"1\" class=\"dataframe\">\n",
       "  <thead>\n",
       "    <tr style=\"text-align: right;\">\n",
       "      <th></th>\n",
       "      <th>SeniorCitizen</th>\n",
       "      <th>tenure_scaled</th>\n",
       "      <th>MonthlyCharges_scaled</th>\n",
       "      <th>Partner_num</th>\n",
       "      <th>Dependents_num</th>\n",
       "      <th>PhoneService_num</th>\n",
       "      <th>PaperlessBilling_num</th>\n",
       "      <th>InternetSpeed</th>\n",
       "    </tr>\n",
       "  </thead>\n",
       "  <tbody>\n",
       "    <tr>\n",
       "      <th>0</th>\n",
       "      <td>0.089376</td>\n",
       "      <td>0.074786</td>\n",
       "      <td>0.911090</td>\n",
       "      <td>0.045016</td>\n",
       "      <td>-0.06083</td>\n",
       "      <td>0.064334</td>\n",
       "      <td>0.195589</td>\n",
       "      <td>0.328958</td>\n",
       "    </tr>\n",
       "    <tr>\n",
       "      <th>1</th>\n",
       "      <td>-0.094996</td>\n",
       "      <td>0.268353</td>\n",
       "      <td>0.046648</td>\n",
       "      <td>0.733558</td>\n",
       "      <td>0.59375</td>\n",
       "      <td>0.015379</td>\n",
       "      <td>-0.143646</td>\n",
       "      <td>-0.072585</td>\n",
       "    </tr>\n",
       "  </tbody>\n",
       "</table>\n",
       "</div>"
      ],
      "text/plain": [
       "   SeniorCitizen  tenure_scaled  MonthlyCharges_scaled  Partner_num  \\\n",
       "0       0.089376       0.074786               0.911090     0.045016   \n",
       "1      -0.094996       0.268353               0.046648     0.733558   \n",
       "\n",
       "   Dependents_num  PhoneService_num  PaperlessBilling_num  InternetSpeed  \n",
       "0        -0.06083          0.064334              0.195589       0.328958  \n",
       "1         0.59375          0.015379             -0.143646      -0.072585  "
      ]
     },
     "execution_count": 47,
     "metadata": {},
     "output_type": "execute_result"
    }
   ],
   "source": [
    "pd.DataFrame(model.components_, columns=features)\n",
    "\n",
    "# PC1 = (0.089376 * SeniorCitizen) + (0.074786 * tenure_scaled) + ... + (0.328958 * InternetSpeed)\n",
    "# PC2 = (-0.094996 * SeniorCitizen) + (0.268353 * tenure_scaled) + ... + (-0.072585 * InternetSpeed)"
   ]
  },
  {
   "cell_type": "markdown",
   "id": "7cb01f4d",
   "metadata": {},
   "source": [
    "#### PCA 수학적 설명\n",
    "- column끼리 공분산을 구해서 공분산 행렬을 구함 ex) df[].cov()\n",
    "- 고유값, 고유벡터를 정방행렬에서 뽑아낼 수 있음\n",
    "- 고유값의 크기 순으로 정렬\n",
    "- 크기가 가장 큰 고유값부터 정렬하면 순서를 갖음\n",
    "- 고유값과 고유벡터는 한 쌍으로 있음\n",
    "- 고유벡터 크기가 큰 것부터 작은 것 순서대로 PC1, PC2, ... 으로 이름을 붙임"
   ]
  }
 ],
 "metadata": {
  "kernelspec": {
   "display_name": "Python 3 (ipykernel)",
   "language": "python",
   "name": "python3"
  },
  "language_info": {
   "codemirror_mode": {
    "name": "ipython",
    "version": 3
   },
   "file_extension": ".py",
   "mimetype": "text/x-python",
   "name": "python",
   "nbconvert_exporter": "python",
   "pygments_lexer": "ipython3",
   "version": "3.9.13"
  }
 },
 "nbformat": 4,
 "nbformat_minor": 5
}
